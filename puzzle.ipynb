{
 "cells": [
  {
   "cell_type": "markdown",
   "metadata": {},
   "source": [
    "## Random walk code"
   ]
  },
  {
   "cell_type": "code",
   "execution_count": 1,
   "metadata": {},
   "outputs": [],
   "source": [
    "import numpy as np\n",
    "from typing import Callable, Iterator, Self\n",
    "from dataclasses import dataclass\n",
    "\n",
    "\n",
    "@dataclass(frozen=True)\n",
    "class Coord:\n",
    "    x: int\n",
    "    y: int\n",
    "\n",
    "    def adjacent_moves(self) -> Iterator[tuple[Self, float]]:\n",
    "        \"\"\"Returns valid adjacent moves with their respective probability\"\"\"\n",
    "        for dx, dy in [(0, 1), (0, -1), (1, 0), (-1, 0)]:\n",
    "            yield Coord(self.x + dx, self.y + dy), 1 / 4\n",
    "\n",
    "\n",
    "def stopping_time(non_absorbing: list[Coord], initial: Coord = Coord(0, 0)) -> float:\n",
    "    \"\"\"Computes the E[absorption time] for the absorbing markov chain of a 2D bounded RW\n",
    "\n",
    "    Given a list of non-absorbing states coordinates, computes the expected time to a\n",
    "    non-absorption state or a coordinate not in the list of non-absorbing states.\n",
    "    This is done by computing the fundamental matrix and then computing the row-wise sum\n",
    "    of the initial coordinate. This function is easily extensible into N-dimensions if\n",
    "    the Coord function is modified\n",
    "\n",
    "    Time complexity: O(n**2.x) where n is the number of non_absorbing states,\n",
    "        2.x for the matrix inversion\n",
    "    Space complexity: O(n**2) where n is the number of non_absorbing states\n",
    "\n",
    "    Parameters\n",
    "    ----------\n",
    "    non_absorbing_coords : list[Coord]\n",
    "        List of non-absorbing coordinates for the N-d random walk\n",
    "    initial : Coord, optional\n",
    "        Initial state, by default Coord(0, 0)\n",
    "\n",
    "    Returns\n",
    "    -------\n",
    "    float\n",
    "        E[absorption time]\n",
    "    \"\"\"\n",
    "    # Flattens the coordinate mappings for the IQR absorbing state matrix\n",
    "    coords_mapping = {coords: i for i, coords in enumerate(non_absorbing)}\n",
    "\n",
    "    # Only the q_matrix is necessary to calculate the E[absorption time]\n",
    "    q_len = len(non_absorbing)\n",
    "    q_matrix = np.zeros((q_len, q_len))\n",
    "\n",
    "    for nac in non_absorbing:\n",
    "        for adj, prob in nac.adjacent_moves():\n",
    "            # Assumes non-listed coords are absorbing\n",
    "            if adj not in coords_mapping: continue\n",
    "            q_matrix[coords_mapping[nac], coords_mapping[adj]] = prob\n",
    "\n",
    "    fundamental = np.linalg.inv(np.subtract(np.identity(q_len), q_matrix))\n",
    "\n",
    "    # Gets row sum of fundamental matrix for initial coord\n",
    "    # In other words, sums up time in other transient states at initial\n",
    "    return np.sum(fundamental, axis=1)[coords_mapping[initial]]"
   ]
  },
  {
   "cell_type": "markdown",
   "metadata": {},
   "source": [
    "## Finding transient states code"
   ]
  },
  {
   "cell_type": "code",
   "execution_count": 2,
   "metadata": {},
   "outputs": [],
   "source": [
    "def setup(boundary: Callable[[Coord], bool]) -> list[Coord]:\n",
    "    \"\"\"DFS flood algo to find all discrete coordinates within the boundary condition\n",
    "\n",
    "    WHY DFS: I didn't feel like importing a deque\n",
    "\n",
    "    Parameters\n",
    "    ----------\n",
    "    boundary : Callable[[Coord], int]\n",
    "        Determines whether the given coordinate is within the defined boundary\n",
    "\n",
    "    Returns\n",
    "    -------\n",
    "    list[Coord]\n",
    "        List of transient coordinates in the grid\n",
    "    \"\"\"\n",
    "    non_absorbing = []\n",
    "\n",
    "    stack = [Coord(0, 0)]\n",
    "    visited = set()\n",
    "    while stack:\n",
    "        last = stack.pop()\n",
    "        if last in visited: continue\n",
    "\n",
    "        if boundary(last):\n",
    "            non_absorbing.append(last)\n",
    "            stack.extend(adj for adj, _ in last.adjacent_moves())\n",
    "        visited.add(last)\n",
    "    return non_absorbing"
   ]
  },
  {
   "cell_type": "markdown",
   "metadata": {},
   "source": [
    "## Problem 1"
   ]
  },
  {
   "cell_type": "code",
   "execution_count": 3,
   "metadata": {},
   "outputs": [
    {
     "name": "stdout",
     "output_type": "stream",
     "text": [
      "Problem one expected time: 4.5\n"
     ]
    }
   ],
   "source": [
    "def prob_one_bound(pos: Coord) -> bool:\n",
    "    \"\"\"Values are divided by 10 for ease of computation.\"\"\"\n",
    "    return -2 < pos.x < 2 and -2 < pos.y < 2\n",
    "\n",
    "\n",
    "prob_one_non_absorbing = setup(prob_one_bound)\n",
    "prob_one_time = stopping_time(prob_one_non_absorbing)\n",
    "print(f\"Problem one expected time: {prob_one_time}\")"
   ]
  },
  {
   "cell_type": "markdown",
   "metadata": {},
   "source": [
    "## Problem 2"
   ]
  },
  {
   "cell_type": "markdown",
   "metadata": {},
   "source": [
    "Problem 2 can be reduced to a one dimensional walk. The line through $ (0, 10) $ and $ (10, 0) $ can be reduced to the line $ x+y=1 $. For all steps up and right, assuming we start at position $ (0, 0) $, the ant will move closer to the line and for all steps down and left, it will move further away, in terms of manhattan distance.\n",
    "\n",
    "To solve we can begin by making the solution a bit more generic and say the ant will move closer to the line with $ p \\in (1/2, 1) $. With this, it will move farther with probability $ 1-p $. For any markov chain, we can write that the time to position x is $ t_x = 1 + \\sum_i P_{ix} \\ t_i $. From this, we can simplify our problem to $ t_x = 1 + (p)t_{x-1} + (1-p)t_{x+1} $ and $ t_0 = 1 + (1-p)t_{-1} $.\n",
    "\n",
    "Another property we can use is the relation between $ t_0 $ and $ t_{-1} $. Starting at $ t_{-1} $ means it has to cover twice the distance to reach $ t_1 $ as $ t_0 $. Therefore, we can rewrite $ t_{-1} = 2 t_0 $. Finally, we can solve the above recurrence relation.\n",
    "\n",
    "\\begin{align*}\n",
    "t_0 &= 1 + (1-p)t_{-1} \\\\\n",
    "t_0 &= 1 + 2 (1-p) t_0 \\\\\n",
    "t_0 &= \\frac{1}{2p-1} \\\\\n",
    "\n",
    "\\therefore \\\\\n",
    "\\displaystyle \\lim_{p \\to \\frac{1}{2}^+} \\frac{1}{2p-1} &= \\infty\n",
    "\\end{align*}"
   ]
  },
  {
   "cell_type": "code",
   "execution_count": 4,
   "metadata": {},
   "outputs": [
    {
     "name": "stdout",
     "output_type": "stream",
     "text": [
      "Problem three expected time: 13.992053058411821\n"
     ]
    }
   ],
   "source": [
    "def prob_three_bound(pos: Coord) -> bool:\n",
    "    \"\"\"Values are divided by 10 for ease of computation.\"\"\"\n",
    "    x_centi, y_centi = pos.x * 10, pos.y * 10\n",
    "    return ((x_centi - 2.5) / 30) ** 2 + ((y_centi - 2.5) / 40) ** 2 < 1\n",
    "\n",
    "\n",
    "prob_three_non_absorbing = setup(prob_three_bound)\n",
    "prob_three_time = stopping_time(prob_three_non_absorbing)\n",
    "print(f\"Problem three expected time: {prob_three_time}\")"
   ]
  }
 ],
 "metadata": {
  "kernelspec": {
   "display_name": "data-oob",
   "language": "python",
   "name": "python3"
  },
  "language_info": {
   "codemirror_mode": {
    "name": "ipython",
    "version": 3
   },
   "file_extension": ".py",
   "mimetype": "text/x-python",
   "name": "python",
   "nbconvert_exporter": "python",
   "pygments_lexer": "ipython3",
   "version": "3.11.3"
  },
  "orig_nbformat": 4
 },
 "nbformat": 4,
 "nbformat_minor": 2
}
